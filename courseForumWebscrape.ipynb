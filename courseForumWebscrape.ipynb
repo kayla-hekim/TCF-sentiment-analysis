{
 "cells": [
  {
   "cell_type": "markdown",
   "id": "539cbdec",
   "metadata": {},
   "source": [
    "# Webscraping The Course Forum, CS 2130"
   ]
  },
  {
   "cell_type": "markdown",
   "id": "8f7d9f32",
   "metadata": {},
   "source": [
    "## Getting just the first 10 reviews:"
   ]
  },
  {
   "cell_type": "code",
   "execution_count": 1,
   "id": "9b0bb63c",
   "metadata": {},
   "outputs": [],
   "source": [
    "import requests\n",
    "from bs4 import BeautifulSoup\n",
    "url = 'https://thecourseforum.com/course/14942/7737/'\n",
    "response = requests.get(url)\n",
    "# html_content = response.text"
   ]
  },
  {
   "cell_type": "code",
   "execution_count": 2,
   "id": "3473b23f",
   "metadata": {},
   "outputs": [
    {
     "name": "stdout",
     "output_type": "stream",
     "text": [
      "Found 10 reviews.\n",
      "\n",
      "--- Review 1 ---\n",
      "Find some friends in this class early on you can consistently study with. The material is difficult but is absolutely doable to get through. The homeworks are pretty hard (especially the escape room one) so start early. The office hour queue is usually a couple of hours long so I can't recommend office hours as a particularly useful resource. Because the nature of this class builds up from the transistor all the way up to sockets in C, make sure you get help as soon as you don't understand something. Professor Graham sometimes blitzes through slides that *he* thinks everyone should understand right away, so engaging in class and asking questions is the best way to keep pace (he will slow down/go back if he realizes people are confused).\n",
      "\n",
      "--- Review 2 ---\n",
      "Halfway through the course I stopped wearing a seatbelt when I drove to class because I'd rather die than sit through another lecture.\n",
      "\n",
      "--- Review 3 ---\n",
      "Professor Graham isn't a bad person, but he often did sth very weird to understand. Like deactivating piazza immediately after final exam before final grade come out. Students don't have a platform to discuss about grading issues. idk why preventing students discussing about final grades or any potential grading issue. It is a 4-credit hard CS course involving about 1000 students so I guess prudence is a virtue.I can see Graham is passionate about what he teach but the workload is really really high. And most stuff is just \"good to know\". This class covers from circuit up to socket, so you can expect the difficulty and work load to be really high. It isn't really Professor Graham's fault but be aware of the load. Like we even have lab and HW due around the cumulative final exam date (+-2days), it makes me wonder is that HW or knowledge that important? And we can't drop even one HW from 12 of them.Other than that, Graham is a nice person: he would shake hand with you and chat with you. He also tried to curve the exam.I guess the problem is really with this class but not with Graham himself.\n",
      "\n",
      "--- Review 4 ---\n",
      "Firstly, Prof. Graham isn't as bad as people make him out to be. While obviously being a \"nice prof\" doesn't make up for a bad course experience, he (a) worked quite hard and (b) truly did listen to student feedback after exams and significantly improved the course as it went on. With that being said:I viewed this class as the first class that really tests whether you \"want it\" or not. While it's not as difficult as other CS classes, its the first one that i would argue is a \"CS weed-out\" and, naturally, that makes the course difficult. It is broken down with three midterms, labs (70% of the grade is showing up, 30% is getting the lab correct), and homework (almost all auto-graded homeworks). The material is all on the website (just google \"CS 2130 UVA\" and you'll find it), but it covers everything from Os and 1s to the C programming language.The main gripes people had with this course was through the first two midterms. This is mostly because a lot of the topics are incredibly low-level and sometimes difficult to follow, but also with some inconsistencies/incorrect information on slides/lectures (which he fixed moving forward). However, the first midterm was quite difficult, and even though he did round to an avg. of 75, it was still surprisingly difficult. On the 2nd midterm and final he listened to feedback and gave study guides and lots of resources/help to have students prepare for \"his type of exam,\" and made them more fair.If you want to succeed in his class, i'd unfortunately say that it is just simply a function of time that you put in PRACTICING. Reading lectures & memorization can only get you so far, so just practicing and putting lots of time into having a thorough understanding of the fundamental principles he's teaching (working all the way from 0s and 1s to C) will benefit you the most.\n",
      "\n",
      "--- Review 5 ---\n",
      "A lot of people complain about Graham, but I attended lectures most of the time and thought he was a decent lecturer. He definitely has his quirks, but he seems genuine and did make attempts to improve the course/exams from student feedback. For me, the first half of the semester was definitely way easier- I enjoyed the content more and found the HW to be more fun (despite a slight learning curve). Content picks up after the first exam. Just be sure to go to all the labs and start the homework early, since they account for a big chunk of your grade. I was able to ask for extensions a lot since they're pretty lenient with that. #tCFF23\n",
      "\n",
      "--- Review 6 ---\n",
      "Although the semester started out rough, he is a genuine guy and truly wanted to make the course better (which he did). I mean looking at the grade distribution a lot more people got out with A's than people made it seem. He's a decent lecturer but does make quite a few mistakes on the slides so I would definitely recommend going to class or watching the recordings. Overall this class isn't hard as long as you take notes and good notes. The labs and homeworks are easily doable so long as you take good notes on the lectures.\n",
      "\n",
      "--- Review 7 ---\n",
      "That first test was insane, I was gagged when I saw the number of questions we had to do in 50 minutes! The homework and labs were difficult but doable with the help of office hours (YOU HAVE TO GO). He definitely learned from the first test bc the second one was much better and the final was a breeze. Definitely rewatch the lectures to study and hopefully he changed that first exam because no amount of studying is getting you through that m8. He is very kind and attempts to help us so I commend him for that.\n",
      "\n",
      "--- Review 8 ---\n",
      "pretty bad as you may have heard. the course content in itself is pretty difficult to understand and graham didn't make it any better. i was in the section where he made an inexplicably hard first exam and then everyone berated him for it and he ended up curving the test and apologizing in class (i felt bad). doesn't mean he made any of the following tests any easier. still pretty difficult. if you try and understand the concept a bit you can probably land solid 80s on the tests. get solid grades on the homework and you can still end up with a pretty decent grade even after not doing the best on exams.\n",
      "\n",
      "--- Review 9 ---\n",
      "Worst class I've ever taken at UVA. So incredibly unorganized with HORRIBLE instruction. Professor Graham quit teaching halfway through the semester and would consistently get frustrated and end class early. Class instruction was incredibly inconsistent. Sometimes there would be powerpoints, sometimes he would use the white board, sometimes it would be handouts which made it so hard to stay organized.  Yes, this is a hard class, so if you can take it with anyone else, save yourself the trouble and do it.\n",
      "\n",
      "--- Review 10 ---\n",
      "This was the least enjoyable class I have taken here at UVA. The material was unnecessarily hard and I found myself constantly stressed out about homeworks which took hours. The first test was nothing like the practice test which was given in previous semesters. It was the professor's first semester teaching this class. But after the first exam, I am glad that he took into his student's opinions into account and adjusted the test structure.#tCFS24\n"
     ]
    }
   ],
   "source": [
    "if response.status_code == 200:\n",
    "    soup = BeautifulSoup(response.content, 'html.parser')\n",
    "\n",
    "    # Find the main container for all reviews (the <ul> list) based on the class 'review-list list-unstyled'\n",
    "    review_list = soup.find('ul', class_='review-list list-unstyled')\n",
    "\n",
    "    # Check if the review list was found\n",
    "    if review_list:\n",
    "        all_reviews = review_list.find_all('li')\n",
    "\n",
    "        print(f\"Found {len(all_reviews)} reviews.\")\n",
    "\n",
    "        for i, review_item in enumerate(all_reviews):\n",
    "            review_text_div = review_item.find('div', class_='review-text-full')\n",
    "            \n",
    "            if review_text_div:\n",
    "                review_text = review_text_div.get_text(strip=True)\n",
    "                print(f\"\\n--- Review {i+1} ---\\n{review_text}\")\n",
    "    else:\n",
    "        print(\"Could not find the review list container.\")\n",
    "else:\n",
    "    print(f\"Failed to retrieve the webpage. Status code: {response.status_code}\")"
   ]
  },
  {
   "cell_type": "code",
   "execution_count": 3,
   "id": "e95e8cb3",
   "metadata": {},
   "outputs": [],
   "source": [
    "# from bs4 import BeautifulSoup\n",
    "# soup = BeautifulSoup(html_content, 'html.parser')"
   ]
  },
  {
   "cell_type": "code",
   "execution_count": 4,
   "id": "119698ff",
   "metadata": {},
   "outputs": [],
   "source": [
    "# paragraphs = soup.find_all('p')\n",
    "# for p in paragraphs:\n",
    "#     print(p.get_text())\n"
   ]
  },
  {
   "cell_type": "markdown",
   "id": "76ccea60",
   "metadata": {},
   "source": [
    "## Getting the reviews on the other pages too"
   ]
  },
  {
   "cell_type": "code",
   "execution_count": 5,
   "id": "5b0acf5b",
   "metadata": {},
   "outputs": [],
   "source": [
    "import requests\n",
    "from bs4 import BeautifulSoup\n",
    "\n",
    "url = 'https://thecourseforum.com/course/14942/7737/'\n",
    "response = requests.get(url)\n",
    "soup = BeautifulSoup(response.content, 'html.parser')\n",
    "\n",
    "def get_last_page_num(url):\n",
    "    pagination_div = soup.find('div', class_='pagination')\n",
    "    if not pagination_div:\n",
    "        print('error on first')\n",
    "    page_links = pagination_div.find_all('a', href=lambda href: href and 'page=' in href)\n",
    "    if not page_links:\n",
    "        print('error on second')\n",
    "    last_link = page_links[-1]\n",
    "    last_page_href = last_link.get('href')\n",
    "    # print(last_page_href)\n",
    "    try:\n",
    "        page_number = last_page_href.split('?page=')[1].split('#reviews')[0]\n",
    "        return page_number\n",
    "    except (IndexError, ValueError):\n",
    "        print('error on last')\n",
    "\n",
    "# url = 'https://thecourseforum.com/course/14942/7737/'\n",
    "# get_last_page_num(url)"
   ]
  },
  {
   "cell_type": "code",
   "execution_count": 6,
   "id": "853a9627",
   "metadata": {},
   "outputs": [],
   "source": [
    "all_reviews_list = []\n",
    "all_ratings_list = []\n",
    "\n",
    "\n",
    "def scrape_all_reviews(url):\n",
    "    all_reviews_final = []\n",
    "    all_ratings_final = []\n",
    "\n",
    "    last_page_num = get_last_page_num(url)\n",
    "    # print(last_page_num)\n",
    "\n",
    "    for i in range(1, (int(last_page_num) + 1)):\n",
    "        new_url = url + f\"?page={i}#reviews\"\n",
    "        # print(\"scraping page\", new_url)\n",
    "\n",
    "        response = requests.get(new_url)\n",
    "        if response.status_code == 200:\n",
    "            soup = BeautifulSoup(response.content, 'html.parser')\n",
    "\n",
    "            # Find the main container for all reviews (the <ul> list) based on the class 'review-list list-unstyled'\n",
    "            review_list = soup.find('ul', class_='review-list list-unstyled')\n",
    "\n",
    "            # Check if the review list was found\n",
    "            if review_list:\n",
    "                all_reviews = review_list.find_all('li')\n",
    "\n",
    "                # print(f\"Found {len(all_reviews)} reviews for page {i}.\")\n",
    "\n",
    "                for j, review_item in enumerate(all_reviews):\n",
    "                    review_text_div = review_item.find('div', class_='review-text-full')\n",
    "                    \n",
    "                    if review_text_div:\n",
    "                        review_text = review_text_div.get_text(strip=True)\n",
    "                        # print(f\"\\n--- Review {j+1} ---\\n{review_text}\")\n",
    "                        all_reviews_final.append(review_text)\n",
    "            else:\n",
    "                print(\"Could not find the review list container.\")\n",
    "                break\n",
    "\n",
    "\n",
    "            # Check if the review list was found\n",
    "            if review_list:\n",
    "                all_ratings = review_list.find_all('li')\n",
    "\n",
    "                for review_item in all_ratings:\n",
    "                    rating_div = review_item.find('div', id='review-average')\n",
    "                    \n",
    "                    if rating_div:\n",
    "                        rating = rating_div.get_text(strip=True)\n",
    "                        # print(rating)\n",
    "                        all_ratings_final.append(float(rating))\n",
    "            else:\n",
    "                print(\"Could not find the rating container.\")\n",
    "        else:\n",
    "            print(f\"Failed to retrieve the webpage. Status code: {response.status_code}\")\n",
    "\n",
    "    return all_reviews_final, all_ratings_final\n",
    "\n",
    "\n",
    "# url = 'https://thecourseforum.com/course/14942/7737/'\n",
    "all_reviews_list, all_ratings_list = scrape_all_reviews(url)\n",
    "# print(all_reviews_list[0:11])"
   ]
  },
  {
   "cell_type": "code",
   "execution_count": 7,
   "id": "5cc948f8",
   "metadata": {},
   "outputs": [
    {
     "name": "stdout",
     "output_type": "stream",
     "text": [
      "29\n",
      "29\n"
     ]
    }
   ],
   "source": [
    "print(len(all_ratings_list))\n",
    "print(len(all_reviews_list))\n",
    "# print(all_ratings_list)"
   ]
  },
  {
   "cell_type": "markdown",
   "id": "bea0f72a",
   "metadata": {},
   "source": [
    "## Placing all_review_list as a Dataframe"
   ]
  },
  {
   "cell_type": "code",
   "execution_count": 8,
   "id": "9ef6111d",
   "metadata": {},
   "outputs": [
    {
     "name": "stderr",
     "output_type": "stream",
     "text": [
      "[nltk_data] Downloading package punkt to /Users/kaylakim/nltk_data...\n",
      "[nltk_data]   Package punkt is already up-to-date!\n",
      "[nltk_data] Downloading package averaged_perceptron_tagger to\n",
      "[nltk_data]     /Users/kaylakim/nltk_data...\n",
      "[nltk_data]   Package averaged_perceptron_tagger is already up-to-\n",
      "[nltk_data]       date!\n",
      "[nltk_data] Downloading package maxent_ne_chunker to\n",
      "[nltk_data]     /Users/kaylakim/nltk_data...\n",
      "[nltk_data]   Package maxent_ne_chunker is already up-to-date!\n",
      "[nltk_data] Downloading package words to /Users/kaylakim/nltk_data...\n",
      "[nltk_data]   Package words is already up-to-date!\n",
      "[nltk_data] Downloading package vader_lexicon to\n",
      "[nltk_data]     /Users/kaylakim/nltk_data...\n",
      "[nltk_data]   Package vader_lexicon is already up-to-date!\n"
     ]
    }
   ],
   "source": [
    "import pandas as pd \n",
    "import numpy as np\n",
    "import matplotlib.pyplot as plt\n",
    "import seaborn as sns\n",
    "\n",
    "plt.style.use('ggplot')\n",
    "\n",
    "import nltk\n",
    "nltk.download('punkt')\n",
    "nltk.download('averaged_perceptron_tagger')\n",
    "nltk.download('maxent_ne_chunker')\n",
    "nltk.download('words')\n",
    "\n",
    "\n",
    "from nltk.sentiment import SentimentIntensityAnalyzer\n",
    "from tqdm.notebook import tqdm\n",
    "nltk.download('vader_lexicon')\n",
    "\n",
    "sia = SentimentIntensityAnalyzer()"
   ]
  },
  {
   "cell_type": "code",
   "execution_count": 11,
   "id": "c8cdb52b",
   "metadata": {},
   "outputs": [],
   "source": [
    "future_id = list(range(len(all_reviews_list)))\n",
    "\n",
    "data = {'Id': future_id, 'review_text': all_reviews_list, 'rating': all_ratings_list}\n",
    "\n",
    "df = pd.DataFrame(data)"
   ]
  },
  {
   "cell_type": "code",
   "execution_count": 12,
   "id": "94cf783e",
   "metadata": {},
   "outputs": [
    {
     "data": {
      "image/png": "[encoded data removed]",
      "text/plain": [
       "<Figure size 1000x600 with 1 Axes>"
      ]
     },
     "metadata": {},
     "output_type": "display_data"
    }
   ],
   "source": [
    "import matplotlib.pyplot as plt\n",
    "\n",
    "# Assuming 'df' is your DataFrame with the continuous 'rating' column\n",
    "plt.figure(figsize=(10, 6))\n",
    "plt.hist(df['rating'], bins=10, edgecolor='black')\n",
    "plt.title('Distribution of Course Ratings')\n",
    "plt.xlabel('Rating')\n",
    "plt.ylabel('Frequency')\n",
    "plt.grid(axis='y', alpha=0.75)\n",
    "plt.savefig('ratings_histogram.png')"
   ]
  },
  {
   "cell_type": "code",
   "execution_count": 15,
   "id": "baafe89f",
   "metadata": {},
   "outputs": [
    {
     "data": {
      "application/vnd.jupyter.widget-view+json": {
       "model_id": "380e50486b324bb1be5c96e2b383cfc7",
       "version_major": 2,
       "version_minor": 0
      },
      "text/plain": [
       "  0%|          | 0/29 [00:00<?, ?it/s]"
      ]
     },
     "metadata": {},
     "output_type": "display_data"
    }
   ],
   "source": [
    "res = {}\n",
    "\n",
    "for i, row in tqdm(df.iterrows(), total=len(df)):\n",
    "    text = row['review_text']\n",
    "    myid = row['Id']\n",
    "    res[myid] = sia.polarity_scores(text)\n",
    "\n",
    "\n",
    "vaders = pd.DataFrame(res).T\n",
    "vaders = vaders.reset_index().rename(columns={'index' : 'Id'})\n",
    "vaders = vaders.merge(df, how='left')"
   ]
  },
  {
   "cell_type": "markdown",
   "id": "947b43cd",
   "metadata": {},
   "source": [
    "## Using HuggingFace Roberta Sentiment Analysis & Hugging Face"
   ]
  },
  {
   "cell_type": "code",
   "execution_count": null,
   "id": "db8d9ccd",
   "metadata": {},
   "outputs": [
    {
     "name": "stderr",
     "output_type": "stream",
     "text": [
      "[nltk_data] Downloading package vader_lexicon to\n",
      "[nltk_data]     /Users/kaylakim/nltk_data...\n",
      "[nltk_data]   Package vader_lexicon is already up-to-date!\n"
     ]
    }
   ],
   "source": [
    "from transformers import AutoTokenizer\n",
    "from transformers import AutoModelForSequenceClassification\n",
    "from scipy.special import softmax"
   ]
  },
  {
   "cell_type": "code",
   "execution_count": null,
   "id": "0723996b",
   "metadata": {},
   "outputs": [],
   "source": [
    "MODEL = f\"cardiffnlp/twitter-roberta-base-sentiment\" \n",
    "tokenizer = AutoTokenizer.from_pretrained(MODEL)\n",
    "model = AutoModelForSequenceClassification.from_pretrained(MODEL)"
   ]
  },
  {
   "cell_type": "code",
   "execution_count": 28,
   "id": "83311486",
   "metadata": {},
   "outputs": [
    {
     "name": "stdout",
     "output_type": "stream",
     "text": [
      "{'neg': 0.189, 'neu': 0.75, 'pos': 0.061, 'compound': -0.9105}\n",
      "\n",
      " Worst class I've ever taken at UVA. So incredibly unorganized with HORRIBLE instruction. Professor Graham quit teaching halfway through the semester and would consistently get frustrated and end class early. Class instruction was incredibly inconsistent. Sometimes there would be powerpoints, sometimes he would use the white board, sometimes it would be handouts which made it so hard to stay organized.  Yes, this is a hard class, so if you can take it with anyone else, save yourself the trouble and do it.\n"
     ]
    }
   ],
   "source": [
    "review_num = 8\n",
    "\n",
    "print(sia.polarity_scores(df['review_text'][review_num]))\n",
    "print(\"\\n\", df['review_text'][review_num])"
   ]
  },
  {
   "cell_type": "code",
   "execution_count": 36,
   "id": "bb581726",
   "metadata": {},
   "outputs": [
    {
     "name": "stdout",
     "output_type": "stream",
     "text": [
      "[0.977, -0.7003, 0.9155, 0.9696, 0.9874, 0.9589, 0.984, 0.7982, -0.9105, 0.2124]\n"
     ]
    }
   ],
   "source": [
    "compound_scores_list = []\n",
    "\n",
    "for index, row in df.iterrows():\n",
    "    this_compound = sia.polarity_scores(row['review_text'])['compound']\n",
    "    compound_scores_list.append(this_compound)\n",
    "\n",
    "print(compound_scores_list[0:10])"
   ]
  },
  {
   "cell_type": "code",
   "execution_count": 38,
   "id": "c8fbdae6",
   "metadata": {},
   "outputs": [
    {
     "name": "stdout",
     "output_type": "stream",
     "text": [
      "0.6078586206896552\n"
     ]
    }
   ],
   "source": [
    "average_compound_cso = np.mean(compound_scores_list)\n",
    "print(average_compound_cso)"
   ]
  },
  {
   "cell_type": "markdown",
   "id": "a85d42b1",
   "metadata": {},
   "source": [
    "## built in models (huggingface) to do easy sentiment analysis next time:"
   ]
  },
  {
   "cell_type": "code",
   "execution_count": 55,
   "id": "fae01a12",
   "metadata": {},
   "outputs": [
    {
     "name": "stderr",
     "output_type": "stream",
     "text": [
      "No model was supplied, defaulted to distilbert-base-uncased-finetuned-sst-2-english and revision af0f99b (https://huggingface.co/distilbert-base-uncased-finetuned-sst-2-english).\n",
      "Using a pipeline without specifying a model name and revision in production is not recommended.\n"
     ]
    },
    {
     "name": "stdout",
     "output_type": "stream",
     "text": [
      "[{'label': 'NEGATIVE', 'score': 0.9996927976608276}]\n",
      "for text, Worst class I've ever taken at UVA. So incredibly unorganized with HORRIBLE instruction. Professor Graham quit teaching halfway through the semester and would consistently get frustrated and end class early. Class instruction was incredibly inconsistent. Sometimes there would be powerpoints, sometimes he would use the white board, sometimes it would be handouts which made it so hard to stay organized.  Yes, this is a hard class, so if you can take it with anyone else, save yourself the trouble and do it.\n"
     ]
    }
   ],
   "source": [
    "from transformers import pipeline\n",
    "\n",
    "sent_pipeline = pipeline(\"sentiment-analysis\")\n",
    "\n",
    "new_text = 8\n",
    "\n",
    "print(sent_pipeline(df['review_text'][new_text]))\n",
    "print(f\"for text, {df['review_text'][new_text]}\")"
   ]
  }
 ],
 "metadata": {
  "kernelspec": {
   "display_name": "base",
   "language": "python",
   "name": "python3"
  },
  "language_info": {
   "codemirror_mode": {
    "name": "ipython",
    "version": 3
   },
   "file_extension": ".py",
   "mimetype": "text/x-python",
   "name": "python",
   "nbconvert_exporter": "python",
   "pygments_lexer": "ipython3",
   "version": "3.11.4"
  }
 },
 "nbformat": 4,
 "nbformat_minor": 5
}
